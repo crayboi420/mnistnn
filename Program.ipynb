{
 "metadata": {
  "language_info": {
   "codemirror_mode": {
    "name": "ipython",
    "version": 3
   },
   "file_extension": ".py",
   "mimetype": "text/x-python",
   "name": "python",
   "nbconvert_exporter": "python",
   "pygments_lexer": "ipython3",
   "version": "3.9.1"
  },
  "orig_nbformat": 2,
  "kernelspec": {
   "name": "python391jvsc74a57bd0aee8b7b246df8f9039afb4144a1f6fd8d2ca17a180786b69acc140d282b71a49",
   "display_name": "Python 3.9.1 64-bit"
  },
  "metadata": {
   "interpreter": {
    "hash": "aee8b7b246df8f9039afb4144a1f6fd8d2ca17a180786b69acc140d282b71a49"
   }
  }
 },
 "nbformat": 4,
 "nbformat_minor": 2,
 "cells": [
  {
   "cell_type": "code",
   "execution_count": 5,
   "metadata": {},
   "outputs": [],
   "source": [
    "import numpy as np\n",
    "import import_ipynb\n",
    "import hashlib\n",
    "import neuralnetwork as nn\n",
    "import matplotlib.pyplot as plt"
   ]
  },
  {
   "cell_type": "code",
   "execution_count": 6,
   "metadata": {},
   "outputs": [],
   "source": [
    "# def fetch(url):\n",
    "#   import requests, gzip, os, hashlib, numpy\n",
    "#   fp = os.path.join(\"/tmp\", hashlib.md5(url.encode('utf-8')).hexdigest())\n",
    "#   if os.path.isfile(fp):\n",
    "#     with open(fp, \"rb\") as f:\n",
    "#       dat = f.read()\n",
    "#   else:\n",
    "#     with open(fp, \"wb\") as f:\n",
    "#       dat = requests.get(url).content\n",
    "#       f.write(dat)\n",
    "#   return numpy.frombuffer(gzip.decompress(dat), dtype=np.uint8).copy()\n",
    "# training_images = fetch(\"http://yann.lecun.com/exdb/mnist/train-images-idx3-ubyte.gz\")[0x10:].reshape((-1, 28, 28))\n",
    "# training_labels = fetch(\"http://yann.lecun.com/exdb/mnist/train-labels-idx1-ubyte.gz\")[8:]\n",
    "# test_images = fetch(\"http://yann.lecun.com/exdb/mnist/t10k-images-idx3-ubyte.gz\")[0x10:].reshape((-1, 28, 28))\n",
    "# test_labels = fetch(\"http://yann.lecun.com/exdb/mnist/t10k-labels-idx1-ubyte.gz\")[8:]"
   ]
  },
  {
   "cell_type": "code",
   "execution_count": 7,
   "metadata": {},
   "outputs": [],
   "source": [
    "from keras.datasets import mnist\n",
    "(training_images,training_labels),(test_images,test_labels) = mnist.load_data()"
   ]
  },
  {
   "cell_type": "code",
   "execution_count": 8,
   "metadata": {},
   "outputs": [
    {
     "output_type": "stream",
     "name": "stdout",
     "text": [
      "[[0.55858098]\n [0.51610996]\n [0.31287334]\n [0.69303506]\n [0.54915729]\n [0.7312227 ]\n [0.49028432]\n [0.53999499]\n [0.60772443]\n [0.58604022]]\n"
     ]
    }
   ],
   "source": [
    "layers = (784,4,10)\n",
    "x = np.ones((layers[0],1))\n",
    "\n",
    "network = nn.model(layers)\n",
    "print(network.predict(x))"
   ]
  }
 ]
}