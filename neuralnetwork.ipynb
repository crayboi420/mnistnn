{
 "metadata": {
  "language_info": {
   "codemirror_mode": {
    "name": "ipython",
    "version": 3
   },
   "file_extension": ".py",
   "mimetype": "text/x-python",
   "name": "python",
   "nbconvert_exporter": "python",
   "pygments_lexer": "ipython3",
   "version": "3.9.1"
  },
  "orig_nbformat": 2,
  "kernelspec": {
   "name": "python391jvsc74a57bd0ac59ebe37160ed0dfa835113d9b8498d9f09ceb179beaac4002f036b9467c963",
   "display_name": "Python 3.9.1 64-bit"
  },
  "metadata": {
   "interpreter": {
    "hash": "ac59ebe37160ed0dfa835113d9b8498d9f09ceb179beaac4002f036b9467c963"
   }
  }
 },
 "nbformat": 4,
 "nbformat_minor": 2,
 "cells": [
  {
   "cell_type": "code",
   "execution_count": 1,
   "metadata": {},
   "outputs": [],
   "source": [
    "import numpy as np\n",
    "import matplotlib.pyplot as plt"
   ]
  },
  {
   "cell_type": "code",
   "execution_count": 3,
   "metadata": {
    "tags": []
   },
   "outputs": [],
   "source": [
    "from keras.datasets import mnist\n",
    "(training_images,training_labels),(test_images,test_labels) = mnist.load_data()\n",
    "\n",
    "training_images,test_images = training_images.astype('float32')/255,test_images.astype('float32')/255\n",
    "\n",
    "#converting labels into arrays\n",
    "training_labels1 = [np.array([[int(a==b)] for a in range(10)])for b in training_labels]\n",
    "test_labels1 = [np.array([[int(a==b)] for a in range(10)])for b in test_labels]\n",
    "#converting images into 1d\n",
    "training_images1 = [a.reshape((784,1)) for a in training_images]\n",
    "test_images1 = [a.reshape((784,1)) for a in test_images]"
   ]
  },
  {
   "cell_type": "code",
   "execution_count": 21,
   "metadata": {},
   "outputs": [],
   "source": [
    "class model:\n",
    "\n",
    "    #Initializing Model\n",
    "    def __init__(self,layers):\n",
    "        self.layers = layers\n",
    "        self.weightShape = [(a,b) for a,b in zip(layers[1:],layers[:-1])]\n",
    "        self.weights =[np.random.standard_normal(shape)/shape[1]**.5 for shape in self.weightShape]\n",
    "        self.biases = [np.zeros((c,1)) for c in layers[1:]]\n",
    "\n",
    "####################################################################  \n",
    "    \n",
    "    #Simply Predicting a thing\n",
    "    def predict(self,a):\n",
    "        for w,b in zip(self.weights,self.biases):\n",
    "            a = self.sigmoid(np.matmul(w,a) + b)\n",
    "        return a\n",
    "\n",
    "####################################################################\n",
    "\n",
    "    #Returning the output as a number\n",
    "    def predictnumber(self,a):\n",
    "        for w,b in zip(self.weights,self.biases):\n",
    "            a = self.sigmoid(np.matmul(w,a) + b)\n",
    "        return np.argmax(a)\n",
    "\n",
    "####################################################################\n",
    "\n",
    "    #Training the model\n",
    "    def train(self,train_images,train_labels,trainingRate,iterations):\n",
    "        \n",
    "        weights_f,biases_f = self.weights.copy(),self.biases.copy()\n",
    "        weights_f.reverse()\n",
    "        biases_f.reverse()\n",
    "\n",
    "\n",
    "        backWeights_f,backbiases_f = [np.ones(a.shape) for a in self.weights], [np.ones(a.shape) for a in self.biases]\n",
    "        backWeights_f.reverse()\n",
    "        backbiases_f.reverse()\n",
    "\n",
    "        dcda_f = np.flip([np.zeros((lsize,1)) for lsize in self.layers])\n",
    "\n",
    "        losses = []\n",
    "        acc = []\n",
    "        accEvery = 1000\n",
    "\n",
    "        for i in range(len(train_images)*iterations):\n",
    "\n",
    "            i=i%len(train_images)\n",
    "            image,label = train_images[i],train_labels[i]\n",
    "\n",
    "            #Find the activations and zs\n",
    "            a_f,z_f = self.z_activations(image)\n",
    "            a_f.reverse()\n",
    "            z_f.reverse()\n",
    "        \n",
    "            loss = self.error(a_f[0],label)\n",
    "            if i%accEvery==0:\n",
    "                acc.append(self.accuracy(test_images1,test_labels))\n",
    "            # losses.append(loss)\n",
    "\n",
    "            dcda_f[0] = self.d_error(a_f[0],label)\n",
    "\n",
    "            for i in range(len(backWeights_f)):\n",
    "                backbiases_f[i] = self.d_sigmoid(z_f[i])*dcda_f[i]\n",
    "                backWeights_f[i] =  np.matmul(self.d_sigmoid(z_f[i])*dcda_f[i],a_f[i+1].T)   \n",
    "                dcda_f[i+1] = (1/len(dcda_f[i]))*np.matmul(weights_f[i].T,(self.d_sigmoid(z_f[i])*dcda_f[i]))\n",
    "            \n",
    "            backWeights_f.reverse()\n",
    "            backbiases_f.reverse()\n",
    "\n",
    "            dbackweight = [a*trainingRate*(-1) for a in backWeights_f]\n",
    "            dbackbiases = [a*trainingRate*(-1) for a in backbiases_f]\n",
    "            \n",
    "            self.weights= [(a+b) for a,b in zip(self.weights,dbackweight)]\n",
    "            self.biases = [(a+b) for a,b in zip(self.biases,dbackbiases)]\n",
    "\n",
    "        # plt.plot(losses)\n",
    "        plt.plot(acc)\n",
    "\n",
    "        return\n",
    "\n",
    "####################################################################\n",
    "\n",
    "    def accuracy(self,testimage,testlabel):\n",
    "        numbers = [self.predictnumber(a) for a in testimage]\n",
    "        answers = [b for b in testlabel]\n",
    "        right = [a==b for a,b in zip(numbers,answers)] \n",
    "        accur = sum(right)/len(testimage)\n",
    "        return accur\n",
    "\n",
    "####################################################################\n",
    "\n",
    "    #Returning activations and z\n",
    "    def z_activations(self,x):\n",
    "        activ= []\n",
    "        z=[]\n",
    "        activ.append(x)\n",
    "        z.append(x)\n",
    "\n",
    "        for w,b in zip(self.weights,self.biases):\n",
    "            x = np.matmul(w,x) + b\n",
    "            z.append(x)\n",
    "            x=self.sigmoid(x)\n",
    "            activ.append(x)\n",
    "\n",
    "        return activ,z\n",
    "\n",
    "####################################################################\n",
    "    \n",
    "    @staticmethod\n",
    "    def predictarray(self,a):\n",
    "        pred = [np.zeros((lsize,1)) for lsize in self.layers]\n",
    "        pred[0] = a\n",
    "        for i in range(1,len(pred)-1):\n",
    "            pred[i] = np.matmul(self.weights[i-1],pred[i-1]+self.biases[i-1])\n",
    "            pred[i] = self.sigmoid(pred[i])\n",
    "        return pred\n",
    "\n",
    "####################################################################\n",
    "\n",
    "    @staticmethod\n",
    "    def sigmoid(x):\n",
    "        return 1/(1+np.exp(-x))\n",
    "    \n",
    "####################################################################\n",
    "\n",
    "    @staticmethod\n",
    "    def d_sigmoid(x):\n",
    "        return np.exp(-x)*(1/(1+np.exp(-x)))**2\n",
    "    \n",
    "####################################################################\n",
    "\n",
    "    @staticmethod\n",
    "    def error(x,answer):\n",
    "        err = (x-answer)**2\n",
    "        # err = -1*answer*np.log(x)\n",
    "        return np.sum(err)\n",
    "\n",
    "####################################################################\n",
    "\n",
    "    # @staticmethod\n",
    "    def d_error(self,x,answer):\n",
    "        d_err = 2*(x-answer)\n",
    "        # d_err = -answer/x\n",
    "        return d_err\n",
    "\n",
    "    # #Softmax\n",
    "    # @staticmethod\n",
    "    # def softmax(x):\n",
    "    #     exp_element=np.exp(x-x.max())\n",
    "    #     return exp_element/np.sum(exp_element,axis=0)\n",
    "\n",
    "    # #derivative of softmax\n",
    "    # @staticmethod\n",
    "    # def d_softmax(x):\n",
    "    #     exp_element=np.exp(x-x.max())\n",
    "    #     return exp_element/np.sum(exp_element,axis=0)*(1-exp_element/np.sum(exp_element,axis=0))"
   ]
  },
  {
   "cell_type": "code",
   "execution_count": 22,
   "metadata": {},
   "outputs": [],
   "source": [
    "#Initializing model\n",
    "layers = (784,50,10)\n",
    "network = model(layers)"
   ]
  },
  {
   "cell_type": "code",
   "execution_count": 23,
   "metadata": {},
   "outputs": [
    {
     "output_type": "stream",
     "name": "stdout",
     "text": [
      "0.1025\n"
     ]
    }
   ],
   "source": [
    "print(network.accuracy(test_images1,test_labels))"
   ]
  },
  {
   "cell_type": "code",
   "execution_count": 24,
   "metadata": {
    "tags": []
   },
   "outputs": [
    {
     "output_type": "stream",
     "name": "stderr",
     "text": [
      "C:\\Users\\crayboi\\AppData\\Roaming\\Python\\Python39\\site-packages\\numpy\\core\\_asarray.py:83: VisibleDeprecationWarning: Creating an ndarray from ragged nested sequences (which is a list-or-tuple of lists-or-tuples-or ndarrays with different lengths or shapes) is deprecated. If you meant to do this, you must specify 'dtype=object' when creating the ndarray\n  return array(a, dtype, copy=False, order=order)\n"
     ]
    },
    {
     "output_type": "display_data",
     "data": {
      "text/plain": "<Figure size 432x288 with 1 Axes>",
      "image/svg+xml": "<?xml version=\"1.0\" encoding=\"utf-8\" standalone=\"no\"?>\r\n<!DOCTYPE svg PUBLIC \"-//W3C//DTD SVG 1.1//EN\"\r\n  \"http://www.w3.org/Graphics/SVG/1.1/DTD/svg11.dtd\">\r\n<svg height=\"248.518125pt\" version=\"1.1\" viewBox=\"0 0 372.103125 248.518125\" width=\"372.103125pt\" xmlns=\"http://www.w3.org/2000/svg\" xmlns:xlink=\"http://www.w3.org/1999/xlink\">\r\n <metadata>\r\n  <rdf:RDF xmlns:cc=\"http://creativecommons.org/ns#\" xmlns:dc=\"http://purl.org/dc/elements/1.1/\" xmlns:rdf=\"http://www.w3.org/1999/02/22-rdf-syntax-ns#\">\r\n   <cc:Work>\r\n    <dc:type rdf:resource=\"http://purl.org/dc/dcmitype/StillImage\"/>\r\n    <dc:date>2021-05-03T01:23:47.986138</dc:date>\r\n    <dc:format>image/svg+xml</dc:format>\r\n    <dc:creator>\r\n     <cc:Agent>\r\n      <dc:title>Matplotlib v3.4.1, https://matplotlib.org/</dc:title>\r\n     </cc:Agent>\r\n    </dc:creator>\r\n   </cc:Work>\r\n  </rdf:RDF>\r\n </metadata>\r\n <defs>\r\n  <style type=\"text/css\">*{stroke-linecap:butt;stroke-linejoin:round;}</style>\r\n </defs>\r\n <g id=\"figure_1\">\r\n  <g id=\"patch_1\">\r\n   <path d=\"M 0 248.518125 \r\nL 372.103125 248.518125 \r\nL 372.103125 0 \r\nL 0 0 \r\nz\r\n\" style=\"fill:none;\"/>\r\n  </g>\r\n  <g id=\"axes_1\">\r\n   <g id=\"patch_2\">\r\n    <path d=\"M 30.103125 224.64 \r\nL 364.903125 224.64 \r\nL 364.903125 7.2 \r\nL 30.103125 7.2 \r\nz\r\n\" style=\"fill:#ffffff;\"/>\r\n   </g>\r\n   <g id=\"matplotlib.axis_1\">\r\n    <g id=\"xtick_1\">\r\n     <g id=\"line2d_1\">\r\n      <defs>\r\n       <path d=\"M 0 0 \r\nL 0 3.5 \r\n\" id=\"m3424256fa3\" style=\"stroke:#000000;stroke-width:0.8;\"/>\r\n      </defs>\r\n      <g>\r\n       <use style=\"stroke:#000000;stroke-width:0.8;\" x=\"45.321307\" xlink:href=\"#m3424256fa3\" y=\"224.64\"/>\r\n      </g>\r\n     </g>\r\n     <g id=\"text_1\">\r\n      <!-- 0 -->\r\n      <g transform=\"translate(42.140057 239.238437)scale(0.1 -0.1)\">\r\n       <defs>\r\n        <path d=\"M 2034 4250 \r\nQ 1547 4250 1301 3770 \r\nQ 1056 3291 1056 2328 \r\nQ 1056 1369 1301 889 \r\nQ 1547 409 2034 409 \r\nQ 2525 409 2770 889 \r\nQ 3016 1369 3016 2328 \r\nQ 3016 3291 2770 3770 \r\nQ 2525 4250 2034 4250 \r\nz\r\nM 2034 4750 \r\nQ 2819 4750 3233 4129 \r\nQ 3647 3509 3647 2328 \r\nQ 3647 1150 3233 529 \r\nQ 2819 -91 2034 -91 \r\nQ 1250 -91 836 529 \r\nQ 422 1150 422 2328 \r\nQ 422 3509 836 4129 \r\nQ 1250 4750 2034 4750 \r\nz\r\n\" id=\"DejaVuSans-30\" transform=\"scale(0.015625)\"/>\r\n       </defs>\r\n       <use xlink:href=\"#DejaVuSans-30\"/>\r\n      </g>\r\n     </g>\r\n    </g>\r\n    <g id=\"xtick_2\">\r\n     <g id=\"line2d_2\">\r\n      <g>\r\n       <use style=\"stroke:#000000;stroke-width:0.8;\" x=\"96.474859\" xlink:href=\"#m3424256fa3\" y=\"224.64\"/>\r\n      </g>\r\n     </g>\r\n     <g id=\"text_2\">\r\n      <!-- 20 -->\r\n      <g transform=\"translate(90.112359 239.238437)scale(0.1 -0.1)\">\r\n       <defs>\r\n        <path d=\"M 1228 531 \r\nL 3431 531 \r\nL 3431 0 \r\nL 469 0 \r\nL 469 531 \r\nQ 828 903 1448 1529 \r\nQ 2069 2156 2228 2338 \r\nQ 2531 2678 2651 2914 \r\nQ 2772 3150 2772 3378 \r\nQ 2772 3750 2511 3984 \r\nQ 2250 4219 1831 4219 \r\nQ 1534 4219 1204 4116 \r\nQ 875 4013 500 3803 \r\nL 500 4441 \r\nQ 881 4594 1212 4672 \r\nQ 1544 4750 1819 4750 \r\nQ 2544 4750 2975 4387 \r\nQ 3406 4025 3406 3419 \r\nQ 3406 3131 3298 2873 \r\nQ 3191 2616 2906 2266 \r\nQ 2828 2175 2409 1742 \r\nQ 1991 1309 1228 531 \r\nz\r\n\" id=\"DejaVuSans-32\" transform=\"scale(0.015625)\"/>\r\n       </defs>\r\n       <use xlink:href=\"#DejaVuSans-32\"/>\r\n       <use x=\"63.623047\" xlink:href=\"#DejaVuSans-30\"/>\r\n      </g>\r\n     </g>\r\n    </g>\r\n    <g id=\"xtick_3\">\r\n     <g id=\"line2d_3\">\r\n      <g>\r\n       <use style=\"stroke:#000000;stroke-width:0.8;\" x=\"147.628411\" xlink:href=\"#m3424256fa3\" y=\"224.64\"/>\r\n      </g>\r\n     </g>\r\n     <g id=\"text_3\">\r\n      <!-- 40 -->\r\n      <g transform=\"translate(141.265911 239.238437)scale(0.1 -0.1)\">\r\n       <defs>\r\n        <path d=\"M 2419 4116 \r\nL 825 1625 \r\nL 2419 1625 \r\nL 2419 4116 \r\nz\r\nM 2253 4666 \r\nL 3047 4666 \r\nL 3047 1625 \r\nL 3713 1625 \r\nL 3713 1100 \r\nL 3047 1100 \r\nL 3047 0 \r\nL 2419 0 \r\nL 2419 1100 \r\nL 313 1100 \r\nL 313 1709 \r\nL 2253 4666 \r\nz\r\n\" id=\"DejaVuSans-34\" transform=\"scale(0.015625)\"/>\r\n       </defs>\r\n       <use xlink:href=\"#DejaVuSans-34\"/>\r\n       <use x=\"63.623047\" xlink:href=\"#DejaVuSans-30\"/>\r\n      </g>\r\n     </g>\r\n    </g>\r\n    <g id=\"xtick_4\">\r\n     <g id=\"line2d_4\">\r\n      <g>\r\n       <use style=\"stroke:#000000;stroke-width:0.8;\" x=\"198.781964\" xlink:href=\"#m3424256fa3\" y=\"224.64\"/>\r\n      </g>\r\n     </g>\r\n     <g id=\"text_4\">\r\n      <!-- 60 -->\r\n      <g transform=\"translate(192.419464 239.238437)scale(0.1 -0.1)\">\r\n       <defs>\r\n        <path d=\"M 2113 2584 \r\nQ 1688 2584 1439 2293 \r\nQ 1191 2003 1191 1497 \r\nQ 1191 994 1439 701 \r\nQ 1688 409 2113 409 \r\nQ 2538 409 2786 701 \r\nQ 3034 994 3034 1497 \r\nQ 3034 2003 2786 2293 \r\nQ 2538 2584 2113 2584 \r\nz\r\nM 3366 4563 \r\nL 3366 3988 \r\nQ 3128 4100 2886 4159 \r\nQ 2644 4219 2406 4219 \r\nQ 1781 4219 1451 3797 \r\nQ 1122 3375 1075 2522 \r\nQ 1259 2794 1537 2939 \r\nQ 1816 3084 2150 3084 \r\nQ 2853 3084 3261 2657 \r\nQ 3669 2231 3669 1497 \r\nQ 3669 778 3244 343 \r\nQ 2819 -91 2113 -91 \r\nQ 1303 -91 875 529 \r\nQ 447 1150 447 2328 \r\nQ 447 3434 972 4092 \r\nQ 1497 4750 2381 4750 \r\nQ 2619 4750 2861 4703 \r\nQ 3103 4656 3366 4563 \r\nz\r\n\" id=\"DejaVuSans-36\" transform=\"scale(0.015625)\"/>\r\n       </defs>\r\n       <use xlink:href=\"#DejaVuSans-36\"/>\r\n       <use x=\"63.623047\" xlink:href=\"#DejaVuSans-30\"/>\r\n      </g>\r\n     </g>\r\n    </g>\r\n    <g id=\"xtick_5\">\r\n     <g id=\"line2d_5\">\r\n      <g>\r\n       <use style=\"stroke:#000000;stroke-width:0.8;\" x=\"249.935516\" xlink:href=\"#m3424256fa3\" y=\"224.64\"/>\r\n      </g>\r\n     </g>\r\n     <g id=\"text_5\">\r\n      <!-- 80 -->\r\n      <g transform=\"translate(243.573016 239.238437)scale(0.1 -0.1)\">\r\n       <defs>\r\n        <path d=\"M 2034 2216 \r\nQ 1584 2216 1326 1975 \r\nQ 1069 1734 1069 1313 \r\nQ 1069 891 1326 650 \r\nQ 1584 409 2034 409 \r\nQ 2484 409 2743 651 \r\nQ 3003 894 3003 1313 \r\nQ 3003 1734 2745 1975 \r\nQ 2488 2216 2034 2216 \r\nz\r\nM 1403 2484 \r\nQ 997 2584 770 2862 \r\nQ 544 3141 544 3541 \r\nQ 544 4100 942 4425 \r\nQ 1341 4750 2034 4750 \r\nQ 2731 4750 3128 4425 \r\nQ 3525 4100 3525 3541 \r\nQ 3525 3141 3298 2862 \r\nQ 3072 2584 2669 2484 \r\nQ 3125 2378 3379 2068 \r\nQ 3634 1759 3634 1313 \r\nQ 3634 634 3220 271 \r\nQ 2806 -91 2034 -91 \r\nQ 1263 -91 848 271 \r\nQ 434 634 434 1313 \r\nQ 434 1759 690 2068 \r\nQ 947 2378 1403 2484 \r\nz\r\nM 1172 3481 \r\nQ 1172 3119 1398 2916 \r\nQ 1625 2713 2034 2713 \r\nQ 2441 2713 2670 2916 \r\nQ 2900 3119 2900 3481 \r\nQ 2900 3844 2670 4047 \r\nQ 2441 4250 2034 4250 \r\nQ 1625 4250 1398 4047 \r\nQ 1172 3844 1172 3481 \r\nz\r\n\" id=\"DejaVuSans-38\" transform=\"scale(0.015625)\"/>\r\n       </defs>\r\n       <use xlink:href=\"#DejaVuSans-38\"/>\r\n       <use x=\"63.623047\" xlink:href=\"#DejaVuSans-30\"/>\r\n      </g>\r\n     </g>\r\n    </g>\r\n    <g id=\"xtick_6\">\r\n     <g id=\"line2d_6\">\r\n      <g>\r\n       <use style=\"stroke:#000000;stroke-width:0.8;\" x=\"301.089068\" xlink:href=\"#m3424256fa3\" y=\"224.64\"/>\r\n      </g>\r\n     </g>\r\n     <g id=\"text_6\">\r\n      <!-- 100 -->\r\n      <g transform=\"translate(291.545318 239.238437)scale(0.1 -0.1)\">\r\n       <defs>\r\n        <path d=\"M 794 531 \r\nL 1825 531 \r\nL 1825 4091 \r\nL 703 3866 \r\nL 703 4441 \r\nL 1819 4666 \r\nL 2450 4666 \r\nL 2450 531 \r\nL 3481 531 \r\nL 3481 0 \r\nL 794 0 \r\nL 794 531 \r\nz\r\n\" id=\"DejaVuSans-31\" transform=\"scale(0.015625)\"/>\r\n       </defs>\r\n       <use xlink:href=\"#DejaVuSans-31\"/>\r\n       <use x=\"63.623047\" xlink:href=\"#DejaVuSans-30\"/>\r\n       <use x=\"127.246094\" xlink:href=\"#DejaVuSans-30\"/>\r\n      </g>\r\n     </g>\r\n    </g>\r\n    <g id=\"xtick_7\">\r\n     <g id=\"line2d_7\">\r\n      <g>\r\n       <use style=\"stroke:#000000;stroke-width:0.8;\" x=\"352.242621\" xlink:href=\"#m3424256fa3\" y=\"224.64\"/>\r\n      </g>\r\n     </g>\r\n     <g id=\"text_7\">\r\n      <!-- 120 -->\r\n      <g transform=\"translate(342.698871 239.238437)scale(0.1 -0.1)\">\r\n       <use xlink:href=\"#DejaVuSans-31\"/>\r\n       <use x=\"63.623047\" xlink:href=\"#DejaVuSans-32\"/>\r\n       <use x=\"127.246094\" xlink:href=\"#DejaVuSans-30\"/>\r\n      </g>\r\n     </g>\r\n    </g>\r\n   </g>\r\n   <g id=\"matplotlib.axis_2\">\r\n    <g id=\"ytick_1\">\r\n     <g id=\"line2d_8\">\r\n      <defs>\r\n       <path d=\"M 0 0 \r\nL -3.5 0 \r\n\" id=\"maee8ff79ea\" style=\"stroke:#000000;stroke-width:0.8;\"/>\r\n      </defs>\r\n      <g>\r\n       <use style=\"stroke:#000000;stroke-width:0.8;\" x=\"30.103125\" xlink:href=\"#maee8ff79ea\" y=\"215.373782\"/>\r\n      </g>\r\n     </g>\r\n     <g id=\"text_8\">\r\n      <!-- 0.1 -->\r\n      <g transform=\"translate(7.2 219.173001)scale(0.1 -0.1)\">\r\n       <defs>\r\n        <path d=\"M 684 794 \r\nL 1344 794 \r\nL 1344 0 \r\nL 684 0 \r\nL 684 794 \r\nz\r\n\" id=\"DejaVuSans-2e\" transform=\"scale(0.015625)\"/>\r\n       </defs>\r\n       <use xlink:href=\"#DejaVuSans-30\"/>\r\n       <use x=\"63.623047\" xlink:href=\"#DejaVuSans-2e\"/>\r\n       <use x=\"95.410156\" xlink:href=\"#DejaVuSans-31\"/>\r\n      </g>\r\n     </g>\r\n    </g>\r\n    <g id=\"ytick_2\">\r\n     <g id=\"line2d_9\">\r\n      <g>\r\n       <use style=\"stroke:#000000;stroke-width:0.8;\" x=\"30.103125\" xlink:href=\"#maee8ff79ea\" y=\"190.67704\"/>\r\n      </g>\r\n     </g>\r\n     <g id=\"text_9\">\r\n      <!-- 0.2 -->\r\n      <g transform=\"translate(7.2 194.476258)scale(0.1 -0.1)\">\r\n       <use xlink:href=\"#DejaVuSans-30\"/>\r\n       <use x=\"63.623047\" xlink:href=\"#DejaVuSans-2e\"/>\r\n       <use x=\"95.410156\" xlink:href=\"#DejaVuSans-32\"/>\r\n      </g>\r\n     </g>\r\n    </g>\r\n    <g id=\"ytick_3\">\r\n     <g id=\"line2d_10\">\r\n      <g>\r\n       <use style=\"stroke:#000000;stroke-width:0.8;\" x=\"30.103125\" xlink:href=\"#maee8ff79ea\" y=\"165.980297\"/>\r\n      </g>\r\n     </g>\r\n     <g id=\"text_10\">\r\n      <!-- 0.3 -->\r\n      <g transform=\"translate(7.2 169.779516)scale(0.1 -0.1)\">\r\n       <defs>\r\n        <path d=\"M 2597 2516 \r\nQ 3050 2419 3304 2112 \r\nQ 3559 1806 3559 1356 \r\nQ 3559 666 3084 287 \r\nQ 2609 -91 1734 -91 \r\nQ 1441 -91 1130 -33 \r\nQ 819 25 488 141 \r\nL 488 750 \r\nQ 750 597 1062 519 \r\nQ 1375 441 1716 441 \r\nQ 2309 441 2620 675 \r\nQ 2931 909 2931 1356 \r\nQ 2931 1769 2642 2001 \r\nQ 2353 2234 1838 2234 \r\nL 1294 2234 \r\nL 1294 2753 \r\nL 1863 2753 \r\nQ 2328 2753 2575 2939 \r\nQ 2822 3125 2822 3475 \r\nQ 2822 3834 2567 4026 \r\nQ 2313 4219 1838 4219 \r\nQ 1578 4219 1281 4162 \r\nQ 984 4106 628 3988 \r\nL 628 4550 \r\nQ 988 4650 1302 4700 \r\nQ 1616 4750 1894 4750 \r\nQ 2613 4750 3031 4423 \r\nQ 3450 4097 3450 3541 \r\nQ 3450 3153 3228 2886 \r\nQ 3006 2619 2597 2516 \r\nz\r\n\" id=\"DejaVuSans-33\" transform=\"scale(0.015625)\"/>\r\n       </defs>\r\n       <use xlink:href=\"#DejaVuSans-30\"/>\r\n       <use x=\"63.623047\" xlink:href=\"#DejaVuSans-2e\"/>\r\n       <use x=\"95.410156\" xlink:href=\"#DejaVuSans-33\"/>\r\n      </g>\r\n     </g>\r\n    </g>\r\n    <g id=\"ytick_4\">\r\n     <g id=\"line2d_11\">\r\n      <g>\r\n       <use style=\"stroke:#000000;stroke-width:0.8;\" x=\"30.103125\" xlink:href=\"#maee8ff79ea\" y=\"141.283555\"/>\r\n      </g>\r\n     </g>\r\n     <g id=\"text_11\">\r\n      <!-- 0.4 -->\r\n      <g transform=\"translate(7.2 145.082773)scale(0.1 -0.1)\">\r\n       <use xlink:href=\"#DejaVuSans-30\"/>\r\n       <use x=\"63.623047\" xlink:href=\"#DejaVuSans-2e\"/>\r\n       <use x=\"95.410156\" xlink:href=\"#DejaVuSans-34\"/>\r\n      </g>\r\n     </g>\r\n    </g>\r\n    <g id=\"ytick_5\">\r\n     <g id=\"line2d_12\">\r\n      <g>\r\n       <use style=\"stroke:#000000;stroke-width:0.8;\" x=\"30.103125\" xlink:href=\"#maee8ff79ea\" y=\"116.586812\"/>\r\n      </g>\r\n     </g>\r\n     <g id=\"text_12\">\r\n      <!-- 0.5 -->\r\n      <g transform=\"translate(7.2 120.386031)scale(0.1 -0.1)\">\r\n       <defs>\r\n        <path d=\"M 691 4666 \r\nL 3169 4666 \r\nL 3169 4134 \r\nL 1269 4134 \r\nL 1269 2991 \r\nQ 1406 3038 1543 3061 \r\nQ 1681 3084 1819 3084 \r\nQ 2600 3084 3056 2656 \r\nQ 3513 2228 3513 1497 \r\nQ 3513 744 3044 326 \r\nQ 2575 -91 1722 -91 \r\nQ 1428 -91 1123 -41 \r\nQ 819 9 494 109 \r\nL 494 744 \r\nQ 775 591 1075 516 \r\nQ 1375 441 1709 441 \r\nQ 2250 441 2565 725 \r\nQ 2881 1009 2881 1497 \r\nQ 2881 1984 2565 2268 \r\nQ 2250 2553 1709 2553 \r\nQ 1456 2553 1204 2497 \r\nQ 953 2441 691 2322 \r\nL 691 4666 \r\nz\r\n\" id=\"DejaVuSans-35\" transform=\"scale(0.015625)\"/>\r\n       </defs>\r\n       <use xlink:href=\"#DejaVuSans-30\"/>\r\n       <use x=\"63.623047\" xlink:href=\"#DejaVuSans-2e\"/>\r\n       <use x=\"95.410156\" xlink:href=\"#DejaVuSans-35\"/>\r\n      </g>\r\n     </g>\r\n    </g>\r\n    <g id=\"ytick_6\">\r\n     <g id=\"line2d_13\">\r\n      <g>\r\n       <use style=\"stroke:#000000;stroke-width:0.8;\" x=\"30.103125\" xlink:href=\"#maee8ff79ea\" y=\"91.89007\"/>\r\n      </g>\r\n     </g>\r\n     <g id=\"text_13\">\r\n      <!-- 0.6 -->\r\n      <g transform=\"translate(7.2 95.689288)scale(0.1 -0.1)\">\r\n       <use xlink:href=\"#DejaVuSans-30\"/>\r\n       <use x=\"63.623047\" xlink:href=\"#DejaVuSans-2e\"/>\r\n       <use x=\"95.410156\" xlink:href=\"#DejaVuSans-36\"/>\r\n      </g>\r\n     </g>\r\n    </g>\r\n    <g id=\"ytick_7\">\r\n     <g id=\"line2d_14\">\r\n      <g>\r\n       <use style=\"stroke:#000000;stroke-width:0.8;\" x=\"30.103125\" xlink:href=\"#maee8ff79ea\" y=\"67.193327\"/>\r\n      </g>\r\n     </g>\r\n     <g id=\"text_14\">\r\n      <!-- 0.7 -->\r\n      <g transform=\"translate(7.2 70.992546)scale(0.1 -0.1)\">\r\n       <defs>\r\n        <path d=\"M 525 4666 \r\nL 3525 4666 \r\nL 3525 4397 \r\nL 1831 0 \r\nL 1172 0 \r\nL 2766 4134 \r\nL 525 4134 \r\nL 525 4666 \r\nz\r\n\" id=\"DejaVuSans-37\" transform=\"scale(0.015625)\"/>\r\n       </defs>\r\n       <use xlink:href=\"#DejaVuSans-30\"/>\r\n       <use x=\"63.623047\" xlink:href=\"#DejaVuSans-2e\"/>\r\n       <use x=\"95.410156\" xlink:href=\"#DejaVuSans-37\"/>\r\n      </g>\r\n     </g>\r\n    </g>\r\n    <g id=\"ytick_8\">\r\n     <g id=\"line2d_15\">\r\n      <g>\r\n       <use style=\"stroke:#000000;stroke-width:0.8;\" x=\"30.103125\" xlink:href=\"#maee8ff79ea\" y=\"42.496584\"/>\r\n      </g>\r\n     </g>\r\n     <g id=\"text_15\">\r\n      <!-- 0.8 -->\r\n      <g transform=\"translate(7.2 46.295803)scale(0.1 -0.1)\">\r\n       <use xlink:href=\"#DejaVuSans-30\"/>\r\n       <use x=\"63.623047\" xlink:href=\"#DejaVuSans-2e\"/>\r\n       <use x=\"95.410156\" xlink:href=\"#DejaVuSans-38\"/>\r\n      </g>\r\n     </g>\r\n    </g>\r\n    <g id=\"ytick_9\">\r\n     <g id=\"line2d_16\">\r\n      <g>\r\n       <use style=\"stroke:#000000;stroke-width:0.8;\" x=\"30.103125\" xlink:href=\"#maee8ff79ea\" y=\"17.799842\"/>\r\n      </g>\r\n     </g>\r\n     <g id=\"text_16\">\r\n      <!-- 0.9 -->\r\n      <g transform=\"translate(7.2 21.599061)scale(0.1 -0.1)\">\r\n       <defs>\r\n        <path d=\"M 703 97 \r\nL 703 672 \r\nQ 941 559 1184 500 \r\nQ 1428 441 1663 441 \r\nQ 2288 441 2617 861 \r\nQ 2947 1281 2994 2138 \r\nQ 2813 1869 2534 1725 \r\nQ 2256 1581 1919 1581 \r\nQ 1219 1581 811 2004 \r\nQ 403 2428 403 3163 \r\nQ 403 3881 828 4315 \r\nQ 1253 4750 1959 4750 \r\nQ 2769 4750 3195 4129 \r\nQ 3622 3509 3622 2328 \r\nQ 3622 1225 3098 567 \r\nQ 2575 -91 1691 -91 \r\nQ 1453 -91 1209 -44 \r\nQ 966 3 703 97 \r\nz\r\nM 1959 2075 \r\nQ 2384 2075 2632 2365 \r\nQ 2881 2656 2881 3163 \r\nQ 2881 3666 2632 3958 \r\nQ 2384 4250 1959 4250 \r\nQ 1534 4250 1286 3958 \r\nQ 1038 3666 1038 3163 \r\nQ 1038 2656 1286 2365 \r\nQ 1534 2075 1959 2075 \r\nz\r\n\" id=\"DejaVuSans-39\" transform=\"scale(0.015625)\"/>\r\n       </defs>\r\n       <use xlink:href=\"#DejaVuSans-30\"/>\r\n       <use x=\"63.623047\" xlink:href=\"#DejaVuSans-2e\"/>\r\n       <use x=\"95.410156\" xlink:href=\"#DejaVuSans-39\"/>\r\n      </g>\r\n     </g>\r\n    </g>\r\n   </g>\r\n   <g id=\"line2d_17\">\r\n    <path clip-path=\"url(#p585b258d32)\" d=\"M 45.321307 214.756364 \r\nL 47.878984 214.213035 \r\nL 50.436662 133.232417 \r\nL 52.99434 152.940417 \r\nL 55.552017 104.510105 \r\nL 58.109695 107.695985 \r\nL 60.667373 90.581142 \r\nL 63.22505 62.130495 \r\nL 65.782728 66.378334 \r\nL 68.340405 77.93641 \r\nL 70.898083 53.807693 \r\nL 73.455761 61.438986 \r\nL 76.013438 49.831517 \r\nL 78.571116 48.646073 \r\nL 81.128793 45.978825 \r\nL 83.686471 33.43288 \r\nL 86.244149 32.22274 \r\nL 88.801826 36.100128 \r\nL 91.359504 32.247436 \r\nL 93.917182 35.655587 \r\nL 96.474859 29.11095 \r\nL 99.032537 30.740935 \r\nL 101.590214 33.087126 \r\nL 104.147892 32.123953 \r\nL 106.70557 27.159907 \r\nL 109.263247 27.9749 \r\nL 111.820925 28.493531 \r\nL 114.378602 25.579316 \r\nL 116.93628 26.097947 \r\nL 119.493958 28.394744 \r\nL 122.051635 27.209301 \r\nL 124.609313 24.492659 \r\nL 127.166991 23.554183 \r\nL 129.724668 24.71493 \r\nL 132.282346 24.542053 \r\nL 134.840023 23.060248 \r\nL 137.397701 25.949767 \r\nL 139.955379 23.776454 \r\nL 142.513056 23.80115 \r\nL 145.070734 24.813717 \r\nL 147.628411 22.418133 \r\nL 150.186089 22.714494 \r\nL 152.743767 24.764323 \r\nL 155.301444 21.973591 \r\nL 157.859122 22.961461 \r\nL 160.4168 22.566313 \r\nL 162.974477 22.763887 \r\nL 165.532155 21.850108 \r\nL 168.089832 22.986158 \r\nL 170.64751 21.430263 \r\nL 173.205188 22.171165 \r\nL 175.762865 22.689797 \r\nL 178.320543 22.59101 \r\nL 180.87822 21.850108 \r\nL 183.435898 21.356173 \r\nL 185.993576 20.911631 \r\nL 188.551253 22.047682 \r\nL 191.108931 20.812844 \r\nL 193.666609 20.491787 \r\nL 196.224286 20.269516 \r\nL 198.781964 23.751757 \r\nL 201.339641 22.615707 \r\nL 203.897319 20.936328 \r\nL 206.454997 20.096639 \r\nL 209.012674 20.170729 \r\nL 211.570352 20.714058 \r\nL 214.12803 20.664664 \r\nL 216.685707 19.47922 \r\nL 219.243385 20.343606 \r\nL 221.801062 22.51692 \r\nL 224.35874 20.047245 \r\nL 226.916418 20.54118 \r\nL 229.474095 23.183732 \r\nL 232.031773 20.294213 \r\nL 234.58945 20.837541 \r\nL 237.147128 19.059376 \r\nL 239.704806 19.059376 \r\nL 242.262483 19.627401 \r\nL 244.820161 19.034679 \r\nL 247.377839 18.614834 \r\nL 249.935516 19.578007 \r\nL 252.493194 20.071942 \r\nL 255.050871 20.244819 \r\nL 257.608549 21.010418 \r\nL 260.166227 18.837105 \r\nL 262.723904 18.763015 \r\nL 265.281582 18.935892 \r\nL 267.839259 17.972719 \r\nL 270.396937 17.923326 \r\nL 272.954615 18.837105 \r\nL 275.512292 19.034679 \r\nL 278.06997 18.861802 \r\nL 280.627648 17.873932 \r\nL 283.185325 18.1209 \r\nL 285.743003 18.071506 \r\nL 288.30068 17.626965 \r\nL 290.858358 18.738318 \r\nL 293.416036 18.367867 \r\nL 295.973713 18.19499 \r\nL 298.531391 18.590138 \r\nL 301.089068 17.602268 \r\nL 303.646746 17.478784 \r\nL 306.204424 19.33104 \r\nL 308.762101 17.701055 \r\nL 311.319779 18.145596 \r\nL 313.877457 18.26908 \r\nL 316.435134 18.046809 \r\nL 318.992812 17.503481 \r\nL 321.550489 18.985286 \r\nL 324.108167 17.256514 \r\nL 326.665845 18.466654 \r\nL 329.223522 18.614834 \r\nL 331.7812 19.059376 \r\nL 334.338877 17.577571 \r\nL 336.896555 18.318473 \r\nL 339.454233 17.725752 \r\nL 342.01191 18.26908 \r\nL 344.569588 17.651661 \r\nL 347.127266 17.330604 \r\nL 349.684943 17.083636 \r\n\" style=\"fill:none;stroke:#1f77b4;stroke-linecap:square;stroke-width:1.5;\"/>\r\n   </g>\r\n   <g id=\"patch_3\">\r\n    <path d=\"M 30.103125 224.64 \r\nL 30.103125 7.2 \r\n\" style=\"fill:none;stroke:#000000;stroke-linecap:square;stroke-linejoin:miter;stroke-width:0.8;\"/>\r\n   </g>\r\n   <g id=\"patch_4\">\r\n    <path d=\"M 364.903125 224.64 \r\nL 364.903125 7.2 \r\n\" style=\"fill:none;stroke:#000000;stroke-linecap:square;stroke-linejoin:miter;stroke-width:0.8;\"/>\r\n   </g>\r\n   <g id=\"patch_5\">\r\n    <path d=\"M 30.103125 224.64 \r\nL 364.903125 224.64 \r\n\" style=\"fill:none;stroke:#000000;stroke-linecap:square;stroke-linejoin:miter;stroke-width:0.8;\"/>\r\n   </g>\r\n   <g id=\"patch_6\">\r\n    <path d=\"M 30.103125 7.2 \r\nL 364.903125 7.2 \r\n\" style=\"fill:none;stroke:#000000;stroke-linecap:square;stroke-linejoin:miter;stroke-width:0.8;\"/>\r\n   </g>\r\n  </g>\r\n </g>\r\n <defs>\r\n  <clipPath id=\"p585b258d32\">\r\n   <rect height=\"217.44\" width=\"334.8\" x=\"30.103125\" y=\"7.2\"/>\r\n  </clipPath>\r\n </defs>\r\n</svg>\r\n",
      "image/png": "[encoded data removed]"
     },
     "metadata": {
      "needs_background": "light"
     }
    }
   ],
   "source": [
    "network.train(training_images1,training_labels1,0.05,2)"
   ]
  },
  {
   "cell_type": "code",
   "execution_count": 25,
   "metadata": {},
   "outputs": [
    {
     "output_type": "stream",
     "name": "stdout",
     "text": [
      "0.8949\n"
     ]
    }
   ],
   "source": [
    "print(network.accuracy(test_images1,test_labels))"
   ]
  }
 ]
}