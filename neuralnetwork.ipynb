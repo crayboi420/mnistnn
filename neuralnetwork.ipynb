{
 "metadata": {
  "language_info": {
   "codemirror_mode": {
    "name": "ipython",
    "version": 3
   },
   "file_extension": ".py",
   "mimetype": "text/x-python",
   "name": "python",
   "nbconvert_exporter": "python",
   "pygments_lexer": "ipython3",
   "version": "3.9.1"
  },
  "orig_nbformat": 2,
  "kernelspec": {
   "name": "python391jvsc74a57bd0aee8b7b246df8f9039afb4144a1f6fd8d2ca17a180786b69acc140d282b71a49",
   "display_name": "Python 3.9.1 64-bit"
  },
  "metadata": {
   "interpreter": {
    "hash": "aee8b7b246df8f9039afb4144a1f6fd8d2ca17a180786b69acc140d282b71a49"
   }
  }
 },
 "nbformat": 4,
 "nbformat_minor": 2,
 "cells": [
  {
   "cell_type": "code",
   "execution_count": 15,
   "metadata": {},
   "outputs": [],
   "source": [
    "import numpy as np"
   ]
  },
  {
   "cell_type": "code",
   "execution_count": 16,
   "metadata": {},
   "outputs": [],
   "source": [
    "class model:\n",
    "    def __init__(self,layers):\n",
    "        weightShape = [(a,b) for a,b in zip(layers[1:],layers[:-1])]\n",
    "        self.weights =[np.random.standard_normal(shape)/shape[1]**.5 for shape in weightShape]\n",
    "        self.biases = [np.zeros((c,1)) for c in layers[1:]]\n",
    "    \n",
    "    def predict(self,a):\n",
    "        for w,b in zip(self.weights,self.biases):\n",
    "            a = self.activation(np.matmul(w,a) + b)\n",
    "        return a\n",
    "\n",
    "    @staticmethod\n",
    "    def activation(x):\n",
    "        return 1/(1+np.exp(-x))\n",
    "    \n",
    "    def train(train_images,train_labels):\n",
    "        "
   ]
  }
 ]
}