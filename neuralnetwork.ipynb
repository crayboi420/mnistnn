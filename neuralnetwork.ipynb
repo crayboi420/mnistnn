{
 "metadata": {
  "language_info": {
   "codemirror_mode": {
    "name": "ipython",
    "version": 3
   },
   "file_extension": ".py",
   "mimetype": "text/x-python",
   "name": "python",
   "nbconvert_exporter": "python",
   "pygments_lexer": "ipython3",
   "version": "3.9.1"
  },
  "orig_nbformat": 2,
  "kernelspec": {
   "name": "python391jvsc74a57bd0ac59ebe37160ed0dfa835113d9b8498d9f09ceb179beaac4002f036b9467c963",
   "display_name": "Python 3.9.1 64-bit"
  },
  "metadata": {
   "interpreter": {
    "hash": "ac59ebe37160ed0dfa835113d9b8498d9f09ceb179beaac4002f036b9467c963"
   }
  }
 },
 "nbformat": 4,
 "nbformat_minor": 2,
 "cells": [
  {
   "cell_type": "code",
   "execution_count": 750,
   "metadata": {},
   "outputs": [],
   "source": [
    "import numpy as np\n",
    "import matplotlib.pyplot as plt"
   ]
  },
  {
   "cell_type": "code",
   "execution_count": 730,
   "metadata": {
    "tags": []
   },
   "outputs": [],
   "source": [
    "from keras.datasets import mnist\n",
    "(training_images,training_labels),(test_images,test_labels) = mnist.load_data()\n",
    "#converting labels into arrays\n",
    "training_labels1 = [np.array([[int(a==b)] for a in range(10)])for b in training_labels]\n",
    "test_labels1 = [np.array([[int(a==b)] for a in range(10)])for b in test_labels]\n",
    "#converting images into 1d\n",
    "training_images1 = [a.reshape((784,1)) for a in training_images]\n",
    "test_images1 = [a.reshape((784,1)) for a in test_images]"
   ]
  },
  {
   "cell_type": "code",
   "execution_count": 757,
   "metadata": {},
   "outputs": [],
   "source": [
    "class model:\n",
    "\n",
    "    #Initializing Model\n",
    "    def __init__(self,layers):\n",
    "        self.layers = layers\n",
    "        self.weightShape = [(a,b) for a,b in zip(layers[1:],layers[:-1])]\n",
    "        self.weights =[np.random.standard_normal(shape)/shape[1]**.5 for shape in self.weightShape]\n",
    "        self.biases = [np.zeros((c,1)) for c in layers[1:]]\n",
    "\n",
    "####################################################################  \n",
    "    \n",
    "    #Simply Predicting a thing\n",
    "    def predict(self,a):\n",
    "        for w,b in zip(self.weights,self.biases):\n",
    "            a = self.sigmoid(np.matmul(w,a) + b)\n",
    "        return a\n",
    "\n",
    "####################################################################\n",
    "\n",
    "    #Returning the output as a number\n",
    "    def predictnumber(self,a):\n",
    "        for w,b in zip(self.weights,self.biases):\n",
    "            a = self.sigmoid(np.matmul(w,a) + b)\n",
    "        return np.argmax(a)\n",
    "\n",
    "####################################################################\n",
    "\n",
    "    #Training the model\n",
    "    def train(self,train_images,train_labels,trainingRate,iterations):\n",
    "\n",
    "        weights_f,biases_f = self.weights.copy(),self.biases.copy()\n",
    "        weights_f.reverse()\n",
    "        biases_f.reverse()\n",
    "\n",
    "        #print([a.shape for a in self.weights])\n",
    "\n",
    "        backWeights_f,backbiases_f = [np.ones(a.shape) for a in self.weights], [np.ones(a.shape) for a in self.biases]\n",
    "        backWeights_f.reverse()\n",
    "        backbiases_f.reverse()\n",
    "\n",
    "        # print(backWeights_f,backbiases_f)\n",
    "\n",
    "        dcda_f = np.flip([np.zeros((lsize,1)) for lsize in self.layers])\n",
    "\n",
    "        #Running the training one random image at a time\n",
    "        for i in range(len(train_images)):\n",
    "\n",
    "            image,label = train_images[i],train_labels[i]\n",
    "\n",
    "            # print(r)\n",
    "            # print(image.shape)\n",
    "\n",
    "            #Find the activations and zs\n",
    "            a_f,z_f = self.z_activations(image)\n",
    "            a_f.reverse()\n",
    "            z_f.reverse()\n",
    "        \n",
    "            loss = self.error(a_f[0],label)\n",
    "\n",
    "            # print(label)\n",
    "            dcda_f[0] = -1*label/a_f[0]*loss\n",
    "\n",
    "            for i in range(len(backWeights_f)):\n",
    "                backbiases_f[i] = self.d_sigmoid(z_f[i])*dcda_f[i]\n",
    "\n",
    "                # print(self.d_sigmoid(z_f[i])*dcda_f[i])\n",
    "                \n",
    "                backWeights_f[i] =  np.matmul(self.d_sigmoid(z_f[i])*dcda_f[i],a_f[i+1].T)   \n",
    "\n",
    "                # print(weights_f[i].T.shape)\n",
    "                # print(self.d_sigmoid(z_f[i]).shape, dcda_f[i].shape,len(dcda_f[i]), var1.shape)\n",
    "\n",
    "                dcda_f[i+1] = (1/len(dcda_f[i]))*np.matmul(weights_f[i].T,(self.d_sigmoid(z_f[i])*dcda_f[i]))\n",
    "            \n",
    "            backWeights_f.reverse()\n",
    "            backbiases_f.reverse()\n",
    "\n",
    "            dbackweight = [a*trainingRate*(-1) for a in backWeights_f]\n",
    "            dbackbiases = [a*trainingRate*(-1) for a in backbiases_f]\n",
    "            \n",
    "            self.weights= [(a+b) for a,b in zip(self.weights,dbackweight)]\n",
    "            self.biases = [(a+b) for a,b in zip(self.biases,dbackbiases)]\n",
    "\n",
    "        return\n",
    "\n",
    "####################################################################\n",
    "\n",
    "    def accuracy(self,testimage,testlabel):\n",
    "        numbers = [self.predictnumber(a) for a in testimage]\n",
    "        answers = [b for b in testlabel]\n",
    "        right = [a==b for a,b in zip(numbers,answers)] \n",
    "        accur = sum(right)/len(testimage)\n",
    "        return accur\n",
    "\n",
    "####################################################################\n",
    "\n",
    "    #Returning activations and z\n",
    "    def z_activations(self,x):\n",
    "        activ= []\n",
    "        z=[]\n",
    "        activ.append(x)\n",
    "        z.append(x)\n",
    "\n",
    "        for w,b in zip(self.weights,self.biases):\n",
    "            x = np.matmul(w,x) + b\n",
    "            z.append(x)\n",
    "            x=self.sigmoid(x)\n",
    "            activ.append(x)\n",
    "\n",
    "        return activ,z\n",
    "\n",
    "####################################################################\n",
    "    \n",
    "    @staticmethod\n",
    "    def predictarray(self,a):\n",
    "        pred = [np.zeros((lsize,1)) for lsize in self.layers]\n",
    "        pred[0] = a\n",
    "        for i in range(1,len(pred)-1):\n",
    "            pred[i] = np.matmul(self.weights[i-1],pred[i-1]+self.biases[i-1])\n",
    "            pred[i] = self.sigmoid(pred[i])\n",
    "        return pred\n",
    "\n",
    "####################################################################\n",
    "\n",
    "    @staticmethod\n",
    "    def sigmoid(x):\n",
    "        return 1/(1+np.exp(-x))\n",
    "    \n",
    "####################################################################\n",
    "\n",
    "    @staticmethod\n",
    "    def d_sigmoid(x):\n",
    "        return np.exp(-x)*(1/(1+np.exp(-x)))**2\n",
    "    \n",
    "####################################################################\n",
    "\n",
    "    @staticmethod\n",
    "    def error(x,answer):\n",
    "        err = -1*answer*np.log(x)\n",
    "        return np.sum(err)\n",
    "\n",
    "####################################################################\n",
    "\n",
    "    @staticmethod\n",
    "    def d_error(x,answer):\n",
    "        d_err = -answer/x\n",
    "        return np.sum(d_err)\n",
    "\n",
    "    # #Softmax\n",
    "    # @staticmethod\n",
    "    # def softmax(x):\n",
    "    #     exp_element=np.exp(x-x.max())\n",
    "    #     return exp_element/np.sum(exp_element,axis=0)\n",
    "\n",
    "    # #derivative of softmax\n",
    "    # @staticmethod\n",
    "    # def d_softmax(x):\n",
    "    #     exp_element=np.exp(x-x.max())\n",
    "    #     return exp_element/np.sum(exp_element,axis=0)*(1-exp_element/np.sum(exp_element,axis=0))"
   ]
  },
  {
   "cell_type": "code",
   "execution_count": 758,
   "metadata": {},
   "outputs": [],
   "source": [
    "#Initializing model\n",
    "layers = (784,300,10)\n",
    "network = model(layers)"
   ]
  },
  {
   "cell_type": "code",
   "execution_count": 759,
   "metadata": {},
   "outputs": [
    {
     "output_type": "stream",
     "name": "stdout",
     "text": [
      "0.09103333333333333\n"
     ]
    }
   ],
   "source": [
    "print(network.accuracy(training_images1,training_labels))"
   ]
  },
  {
   "cell_type": "code",
   "execution_count": 760,
   "metadata": {
    "tags": []
   },
   "outputs": [
    {
     "output_type": "stream",
     "name": "stderr",
     "text": [
      "C:\\Users\\crayboi\\AppData\\Roaming\\Python\\Python39\\site-packages\\numpy\\core\\_asarray.py:83: VisibleDeprecationWarning: Creating an ndarray from ragged nested sequences (which is a list-or-tuple of lists-or-tuples-or ndarrays with different lengths or shapes) is deprecated. If you meant to do this, you must specify 'dtype=object' when creating the ndarray\n  return array(a, dtype, copy=False, order=order)\n"
     ]
    }
   ],
   "source": [
    "network.train(training_images1,training_labels1,0.0001,10000)"
   ]
  },
  {
   "cell_type": "code",
   "execution_count": 761,
   "metadata": {},
   "outputs": [
    {
     "output_type": "stream",
     "name": "stdout",
     "text": [
      "0.18306666666666666\n"
     ]
    }
   ],
   "source": [
    "print(network.accuracy(training_images1,training_labels))"
   ]
  },
  {
   "cell_type": "code",
   "execution_count": 766,
   "metadata": {},
   "outputs": [
    {
     "output_type": "execute_result",
     "data": {
      "text/plain": [
       "5"
      ]
     },
     "metadata": {},
     "execution_count": 766
    },
    {
     "output_type": "display_data",
     "data": {
      "text/plain": "<Figure size 432x288 with 1 Axes>",
      "image/svg+xml": "<?xml version=\"1.0\" encoding=\"utf-8\" standalone=\"no\"?>\r\n<!DOCTYPE svg PUBLIC \"-//W3C//DTD SVG 1.1//EN\"\r\n  \"http://www.w3.org/Graphics/SVG/1.1/DTD/svg11.dtd\">\r\n<svg height=\"248.518125pt\" version=\"1.1\" viewBox=\"0 0 251.565 248.518125\" width=\"251.565pt\" xmlns=\"http://www.w3.org/2000/svg\" xmlns:xlink=\"http://www.w3.org/1999/xlink\">\r\n <metadata>\r\n  <rdf:RDF xmlns:cc=\"http://creativecommons.org/ns#\" xmlns:dc=\"http://purl.org/dc/elements/1.1/\" xmlns:rdf=\"http://www.w3.org/1999/02/22-rdf-syntax-ns#\">\r\n   <cc:Work>\r\n    <dc:type rdf:resource=\"http://purl.org/dc/dcmitype/StillImage\"/>\r\n    <dc:date>2021-04-29T19:29:53.400647</dc:date>\r\n    <dc:format>image/svg+xml</dc:format>\r\n    <dc:creator>\r\n     <cc:Agent>\r\n      <dc:title>Matplotlib v3.4.1, https://matplotlib.org/</dc:title>\r\n     </cc:Agent>\r\n    </dc:creator>\r\n   </cc:Work>\r\n  </rdf:RDF>\r\n </metadata>\r\n <defs>\r\n  <style type=\"text/css\">*{stroke-linecap:butt;stroke-linejoin:round;}</style>\r\n </defs>\r\n <g id=\"figure_1\">\r\n  <g id=\"patch_1\">\r\n   <path d=\"M 0 248.518125 \r\nL 251.565 248.518125 \r\nL 251.565 0 \r\nL 0 0 \r\nz\r\n\" style=\"fill:none;\"/>\r\n  </g>\r\n  <g id=\"axes_1\">\r\n   <g id=\"patch_2\">\r\n    <path d=\"M 26.925 224.64 \r\nL 244.365 224.64 \r\nL 244.365 7.2 \r\nL 26.925 7.2 \r\nz\r\n\" style=\"fill:#ffffff;\"/>\r\n   </g>\r\n   <g clip-path=\"url(#pe107c6fb3f)\">\r\n    <image height=\"218\" id=\"image5eaf20126f\" transform=\"scale(1 -1)translate(0 -218)\" width=\"218\" x=\"26.925\" xlink:href=\"data:image/png;base64,\r\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\" y=\"-6.64\"/>\r\n   </g>\r\n   <g id=\"matplotlib.axis_1\">\r\n    <g id=\"xtick_1\">\r\n     <g id=\"line2d_1\">\r\n      <defs>\r\n       <path d=\"M 0 0 \r\nL 0 3.5 \r\n\" id=\"m4474b987e6\" style=\"stroke:#000000;stroke-width:0.8;\"/>\r\n      </defs>\r\n      <g>\r\n       <use style=\"stroke:#000000;stroke-width:0.8;\" x=\"30.807857\" xlink:href=\"#m4474b987e6\" y=\"224.64\"/>\r\n      </g>\r\n     </g>\r\n     <g id=\"text_1\">\r\n      <!-- 0 -->\r\n      <g transform=\"translate(27.626607 239.238437)scale(0.1 -0.1)\">\r\n       <defs>\r\n        <path d=\"M 2034 4250 \r\nQ 1547 4250 1301 3770 \r\nQ 1056 3291 1056 2328 \r\nQ 1056 1369 1301 889 \r\nQ 1547 409 2034 409 \r\nQ 2525 409 2770 889 \r\nQ 3016 1369 3016 2328 \r\nQ 3016 3291 2770 3770 \r\nQ 2525 4250 2034 4250 \r\nz\r\nM 2034 4750 \r\nQ 2819 4750 3233 4129 \r\nQ 3647 3509 3647 2328 \r\nQ 3647 1150 3233 529 \r\nQ 2819 -91 2034 -91 \r\nQ 1250 -91 836 529 \r\nQ 422 1150 422 2328 \r\nQ 422 3509 836 4129 \r\nQ 1250 4750 2034 4750 \r\nz\r\n\" id=\"DejaVuSans-30\" transform=\"scale(0.015625)\"/>\r\n       </defs>\r\n       <use xlink:href=\"#DejaVuSans-30\"/>\r\n      </g>\r\n     </g>\r\n    </g>\r\n    <g id=\"xtick_2\">\r\n     <g id=\"line2d_2\">\r\n      <g>\r\n       <use style=\"stroke:#000000;stroke-width:0.8;\" x=\"69.636429\" xlink:href=\"#m4474b987e6\" y=\"224.64\"/>\r\n      </g>\r\n     </g>\r\n     <g id=\"text_2\">\r\n      <!-- 5 -->\r\n      <g transform=\"translate(66.455179 239.238437)scale(0.1 -0.1)\">\r\n       <defs>\r\n        <path d=\"M 691 4666 \r\nL 3169 4666 \r\nL 3169 4134 \r\nL 1269 4134 \r\nL 1269 2991 \r\nQ 1406 3038 1543 3061 \r\nQ 1681 3084 1819 3084 \r\nQ 2600 3084 3056 2656 \r\nQ 3513 2228 3513 1497 \r\nQ 3513 744 3044 326 \r\nQ 2575 -91 1722 -91 \r\nQ 1428 -91 1123 -41 \r\nQ 819 9 494 109 \r\nL 494 744 \r\nQ 775 591 1075 516 \r\nQ 1375 441 1709 441 \r\nQ 2250 441 2565 725 \r\nQ 2881 1009 2881 1497 \r\nQ 2881 1984 2565 2268 \r\nQ 2250 2553 1709 2553 \r\nQ 1456 2553 1204 2497 \r\nQ 953 2441 691 2322 \r\nL 691 4666 \r\nz\r\n\" id=\"DejaVuSans-35\" transform=\"scale(0.015625)\"/>\r\n       </defs>\r\n       <use xlink:href=\"#DejaVuSans-35\"/>\r\n      </g>\r\n     </g>\r\n    </g>\r\n    <g id=\"xtick_3\">\r\n     <g id=\"line2d_3\">\r\n      <g>\r\n       <use style=\"stroke:#000000;stroke-width:0.8;\" x=\"108.465\" xlink:href=\"#m4474b987e6\" y=\"224.64\"/>\r\n      </g>\r\n     </g>\r\n     <g id=\"text_3\">\r\n      <!-- 10 -->\r\n      <g transform=\"translate(102.1025 239.238437)scale(0.1 -0.1)\">\r\n       <defs>\r\n        <path d=\"M 794 531 \r\nL 1825 531 \r\nL 1825 4091 \r\nL 703 3866 \r\nL 703 4441 \r\nL 1819 4666 \r\nL 2450 4666 \r\nL 2450 531 \r\nL 3481 531 \r\nL 3481 0 \r\nL 794 0 \r\nL 794 531 \r\nz\r\n\" id=\"DejaVuSans-31\" transform=\"scale(0.015625)\"/>\r\n       </defs>\r\n       <use xlink:href=\"#DejaVuSans-31\"/>\r\n       <use x=\"63.623047\" xlink:href=\"#DejaVuSans-30\"/>\r\n      </g>\r\n     </g>\r\n    </g>\r\n    <g id=\"xtick_4\">\r\n     <g id=\"line2d_4\">\r\n      <g>\r\n       <use style=\"stroke:#000000;stroke-width:0.8;\" x=\"147.293571\" xlink:href=\"#m4474b987e6\" y=\"224.64\"/>\r\n      </g>\r\n     </g>\r\n     <g id=\"text_4\">\r\n      <!-- 15 -->\r\n      <g transform=\"translate(140.931071 239.238437)scale(0.1 -0.1)\">\r\n       <use xlink:href=\"#DejaVuSans-31\"/>\r\n       <use x=\"63.623047\" xlink:href=\"#DejaVuSans-35\"/>\r\n      </g>\r\n     </g>\r\n    </g>\r\n    <g id=\"xtick_5\">\r\n     <g id=\"line2d_5\">\r\n      <g>\r\n       <use style=\"stroke:#000000;stroke-width:0.8;\" x=\"186.122143\" xlink:href=\"#m4474b987e6\" y=\"224.64\"/>\r\n      </g>\r\n     </g>\r\n     <g id=\"text_5\">\r\n      <!-- 20 -->\r\n      <g transform=\"translate(179.759643 239.238437)scale(0.1 -0.1)\">\r\n       <defs>\r\n        <path d=\"M 1228 531 \r\nL 3431 531 \r\nL 3431 0 \r\nL 469 0 \r\nL 469 531 \r\nQ 828 903 1448 1529 \r\nQ 2069 2156 2228 2338 \r\nQ 2531 2678 2651 2914 \r\nQ 2772 3150 2772 3378 \r\nQ 2772 3750 2511 3984 \r\nQ 2250 4219 1831 4219 \r\nQ 1534 4219 1204 4116 \r\nQ 875 4013 500 3803 \r\nL 500 4441 \r\nQ 881 4594 1212 4672 \r\nQ 1544 4750 1819 4750 \r\nQ 2544 4750 2975 4387 \r\nQ 3406 4025 3406 3419 \r\nQ 3406 3131 3298 2873 \r\nQ 3191 2616 2906 2266 \r\nQ 2828 2175 2409 1742 \r\nQ 1991 1309 1228 531 \r\nz\r\n\" id=\"DejaVuSans-32\" transform=\"scale(0.015625)\"/>\r\n       </defs>\r\n       <use xlink:href=\"#DejaVuSans-32\"/>\r\n       <use x=\"63.623047\" xlink:href=\"#DejaVuSans-30\"/>\r\n      </g>\r\n     </g>\r\n    </g>\r\n    <g id=\"xtick_6\">\r\n     <g id=\"line2d_6\">\r\n      <g>\r\n       <use style=\"stroke:#000000;stroke-width:0.8;\" x=\"224.950714\" xlink:href=\"#m4474b987e6\" y=\"224.64\"/>\r\n      </g>\r\n     </g>\r\n     <g id=\"text_6\">\r\n      <!-- 25 -->\r\n      <g transform=\"translate(218.588214 239.238437)scale(0.1 -0.1)\">\r\n       <use xlink:href=\"#DejaVuSans-32\"/>\r\n       <use x=\"63.623047\" xlink:href=\"#DejaVuSans-35\"/>\r\n      </g>\r\n     </g>\r\n    </g>\r\n   </g>\r\n   <g id=\"matplotlib.axis_2\">\r\n    <g id=\"ytick_1\">\r\n     <g id=\"line2d_7\">\r\n      <defs>\r\n       <path d=\"M 0 0 \r\nL -3.5 0 \r\n\" id=\"me8f84821d3\" style=\"stroke:#000000;stroke-width:0.8;\"/>\r\n      </defs>\r\n      <g>\r\n       <use style=\"stroke:#000000;stroke-width:0.8;\" x=\"26.925\" xlink:href=\"#me8f84821d3\" y=\"11.082857\"/>\r\n      </g>\r\n     </g>\r\n     <g id=\"text_7\">\r\n      <!-- 0 -->\r\n      <g transform=\"translate(13.5625 14.882076)scale(0.1 -0.1)\">\r\n       <use xlink:href=\"#DejaVuSans-30\"/>\r\n      </g>\r\n     </g>\r\n    </g>\r\n    <g id=\"ytick_2\">\r\n     <g id=\"line2d_8\">\r\n      <g>\r\n       <use style=\"stroke:#000000;stroke-width:0.8;\" x=\"26.925\" xlink:href=\"#me8f84821d3\" y=\"49.911429\"/>\r\n      </g>\r\n     </g>\r\n     <g id=\"text_8\">\r\n      <!-- 5 -->\r\n      <g transform=\"translate(13.5625 53.710647)scale(0.1 -0.1)\">\r\n       <use xlink:href=\"#DejaVuSans-35\"/>\r\n      </g>\r\n     </g>\r\n    </g>\r\n    <g id=\"ytick_3\">\r\n     <g id=\"line2d_9\">\r\n      <g>\r\n       <use style=\"stroke:#000000;stroke-width:0.8;\" x=\"26.925\" xlink:href=\"#me8f84821d3\" y=\"88.74\"/>\r\n      </g>\r\n     </g>\r\n     <g id=\"text_9\">\r\n      <!-- 10 -->\r\n      <g transform=\"translate(7.2 92.539219)scale(0.1 -0.1)\">\r\n       <use xlink:href=\"#DejaVuSans-31\"/>\r\n       <use x=\"63.623047\" xlink:href=\"#DejaVuSans-30\"/>\r\n      </g>\r\n     </g>\r\n    </g>\r\n    <g id=\"ytick_4\">\r\n     <g id=\"line2d_10\">\r\n      <g>\r\n       <use style=\"stroke:#000000;stroke-width:0.8;\" x=\"26.925\" xlink:href=\"#me8f84821d3\" y=\"127.568571\"/>\r\n      </g>\r\n     </g>\r\n     <g id=\"text_10\">\r\n      <!-- 15 -->\r\n      <g transform=\"translate(7.2 131.36779)scale(0.1 -0.1)\">\r\n       <use xlink:href=\"#DejaVuSans-31\"/>\r\n       <use x=\"63.623047\" xlink:href=\"#DejaVuSans-35\"/>\r\n      </g>\r\n     </g>\r\n    </g>\r\n    <g id=\"ytick_5\">\r\n     <g id=\"line2d_11\">\r\n      <g>\r\n       <use style=\"stroke:#000000;stroke-width:0.8;\" x=\"26.925\" xlink:href=\"#me8f84821d3\" y=\"166.397143\"/>\r\n      </g>\r\n     </g>\r\n     <g id=\"text_11\">\r\n      <!-- 20 -->\r\n      <g transform=\"translate(7.2 170.196362)scale(0.1 -0.1)\">\r\n       <use xlink:href=\"#DejaVuSans-32\"/>\r\n       <use x=\"63.623047\" xlink:href=\"#DejaVuSans-30\"/>\r\n      </g>\r\n     </g>\r\n    </g>\r\n    <g id=\"ytick_6\">\r\n     <g id=\"line2d_12\">\r\n      <g>\r\n       <use style=\"stroke:#000000;stroke-width:0.8;\" x=\"26.925\" xlink:href=\"#me8f84821d3\" y=\"205.225714\"/>\r\n      </g>\r\n     </g>\r\n     <g id=\"text_12\">\r\n      <!-- 25 -->\r\n      <g transform=\"translate(7.2 209.024933)scale(0.1 -0.1)\">\r\n       <use xlink:href=\"#DejaVuSans-32\"/>\r\n       <use x=\"63.623047\" xlink:href=\"#DejaVuSans-35\"/>\r\n      </g>\r\n     </g>\r\n    </g>\r\n   </g>\r\n   <g id=\"patch_3\">\r\n    <path d=\"M 26.925 224.64 \r\nL 26.925 7.2 \r\n\" style=\"fill:none;stroke:#000000;stroke-linecap:square;stroke-linejoin:miter;stroke-width:0.8;\"/>\r\n   </g>\r\n   <g id=\"patch_4\">\r\n    <path d=\"M 244.365 224.64 \r\nL 244.365 7.2 \r\n\" style=\"fill:none;stroke:#000000;stroke-linecap:square;stroke-linejoin:miter;stroke-width:0.8;\"/>\r\n   </g>\r\n   <g id=\"patch_5\">\r\n    <path d=\"M 26.925 224.64 \r\nL 244.365 224.64 \r\n\" style=\"fill:none;stroke:#000000;stroke-linecap:square;stroke-linejoin:miter;stroke-width:0.8;\"/>\r\n   </g>\r\n   <g id=\"patch_6\">\r\n    <path d=\"M 26.925 7.2 \r\nL 244.365 7.2 \r\n\" style=\"fill:none;stroke:#000000;stroke-linecap:square;stroke-linejoin:miter;stroke-width:0.8;\"/>\r\n   </g>\r\n  </g>\r\n </g>\r\n <defs>\r\n  <clipPath id=\"pe107c6fb3f\">\r\n   <rect height=\"217.44\" width=\"217.44\" x=\"26.925\" y=\"7.2\"/>\r\n  </clipPath>\r\n </defs>\r\n</svg>\r\n",
      "image/png": "[encoded data removed]"
     },
     "metadata": {
      "needs_background": "light"
     }
    }
   ],
   "source": [
    "plt.imshow(test_images[7])\n",
    "network.predictnumber(test_images1[7])"
   ]
  }
 ]
}